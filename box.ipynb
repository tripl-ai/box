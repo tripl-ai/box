{
 "cells": [
  {
   "cell_type": "code",
   "execution_count": 1,
   "id": "b5826548",
   "metadata": {},
   "outputs": [
    {
     "data": {
      "text/html": [
       "<table class=\"tex2jax_ignore\"><thead><tr><th>l_orderkey</th><th>l_partkey</th><th>l_suppkey</th><th>l_linenumber</th><th>l_quantity</th><th>l_extendedprice</th><th>l_discount</th><th>l_tax</th><th>l_returnflag</th><th>l_linestatus</th><th>l_shipdate</th><th>l_commitdate</th><th>l_receiptdate</th><th>l_shipinstruct</th><th>l_shipmode</th><th>l_comment</th></tr></thead><tbody><tr><td>176037</td><td>62993</td><td>512</td><td>3</td><td>30</td><td>58679.7</td><td>0</td><td>0.04</td><td>N</td><td>O</td><td>1998-06-06</td><td>1998-04-19</td><td>1998-06-29</td><td>DELIVER IN PERSON</td><td>RAIL</td><td>endencies integr</td></tr><tr><td>382948</td><td>43197</td><td>8206</td><td>3</td><td>20</td><td>22803.8</td><td>0.03</td><td>0.05</td><td>N</td><td>O</td><td>1995-12-21</td><td>1996-01-12</td><td>1996-01-05</td><td>COLLECT COD</td><td>REG AIR</td><td>daring platelets haggle even r</td></tr><tr><td>368263</td><td>95119</td><td>2647</td><td>2</td><td>28</td><td>31195.08</td><td>0</td><td>0.01</td><td>N</td><td>O</td><td>1997-07-10</td><td>1997-09-25</td><td>1997-08-08</td><td>NONE</td><td>MAIL</td><td>ts cajole. slyly</td></tr><tr><td>64453</td><td>140388</td><td>2903</td><td>5</td><td>2</td><td>2856.76</td><td>0.04</td><td>0.02</td><td>A</td><td>F</td><td>1992-04-27</td><td>1992-05-15</td><td>1992-05-16</td><td>COLLECT COD</td><td>FOB</td><td>uests cajole atop the specia</td></tr><tr><td>463331</td><td>82930</td><td>2931</td><td>3</td><td>35</td><td>66952.55</td><td>0.03</td><td>0.07</td><td>R</td><td>F</td><td>1992-08-19</td><td>1992-10-25</td><td>1992-08-30</td><td>NONE</td><td>MAIL</td><td>final packages.</td></tr><tr><td>498308</td><td>136606</td><td>4146</td><td>1</td><td>46</td><td>75559.6</td><td>0.08</td><td>0</td><td>N</td><td>O</td><td>1996-03-07</td><td>1996-02-11</td><td>1996-03-21</td><td>TAKE BACK RETURN</td><td>TRUCK</td><td>usual deposits sleep slyly never re</td></tr><tr><td>68960</td><td>46418</td><td>6419</td><td>1</td><td>41</td><td>55940.81</td><td>0.05</td><td>0.03</td><td>N</td><td>O</td><td>1996-05-01</td><td>1996-04-07</td><td>1996-05-30</td><td>DELIVER IN PERSON</td><td>REG AIR</td><td>final dolphins sl</td></tr><tr><td>281795</td><td>8376</td><td>8377</td><td>5</td><td>48</td><td>61649.76</td><td>0.04</td><td>0.08</td><td>N</td><td>O</td><td>1996-09-06</td><td>1996-10-04</td><td>1996-09-07</td><td>TAKE BACK RETURN</td><td>RAIL</td><td>according to the</td></tr><tr><td>220384</td><td>183423</td><td>8460</td><td>4</td><td>22</td><td>33141.24</td><td>0.07</td><td>0.02</td><td>R</td><td>F</td><td>1993-06-13</td><td>1993-07-02</td><td>1993-06-19</td><td>NONE</td><td>AIR</td><td>uffily regul</td></tr><tr><td>144547</td><td>36816</td><td>9320</td><td>3</td><td>2</td><td>3505.62</td><td>0.05</td><td>0.01</td><td>A</td><td>F</td><td>1992-12-09</td><td>1992-12-05</td><td>1992-12-15</td><td>TAKE BACK RETURN</td><td>MAIL</td><td>iously final packages are b</td></tr></tbody></table>"
      ]
     },
     "execution_count": 1,
     "metadata": {},
     "output_type": "execute_result"
    }
   ],
   "source": [
    "{\n",
    "    \"type\": \"ParquetExtract\",\n",
    "    \"inputURI\": \"${INPUT}/lineitem\",\n",
    "    \"outputView\": \"lineitem\",\n",
    "    \"persist\": false\n",
    "}"
   ]
  },
  {
   "cell_type": "code",
   "execution_count": 2,
   "id": "2d024920",
   "metadata": {},
   "outputs": [
    {
     "data": {
      "text/html": [
       "<table class=\"tex2jax_ignore\"><thead><tr><th>o_orderkey</th><th>o_custkey</th><th>o_orderstatus</th><th>o_totalprice</th><th>o_orderdate</th><th>o_orderpriority</th><th>o_clerk</th><th>o_shippriority</th><th>o_comment</th></tr></thead><tbody><tr><td>230855</td><td>73829</td><td>O</td><td>117952.99</td><td>1997-02-08</td><td>2-HIGH</td><td>Clerk#000000186</td><td>0</td><td>al accounts was slyly above the ideas. quietly</td></tr><tr><td>365346</td><td>60946</td><td>O</td><td>224423.31</td><td>1996-09-08</td><td>1-URGENT</td><td>Clerk#000000916</td><td>0</td><td>ays. quickly bold d</td></tr><tr><td>258948</td><td>109924</td><td>O</td><td>188405.79</td><td>1997-07-16</td><td>3-MEDIUM</td><td>Clerk#000000155</td><td>0</td><td>ously final ideas. regular, even accounts integrate ca</td></tr><tr><td>441057</td><td>36976</td><td>O</td><td>285908.69</td><td>1996-05-03</td><td>5-LOW</td><td>Clerk#000000216</td><td>0</td><td>lly ironic instructions should use. ironic, final accounts sleep</td></tr><tr><td>216608</td><td>109906</td><td>F</td><td>195014.86</td><td>1993-07-16</td><td>1-URGENT</td><td>Clerk#000000674</td><td>0</td><td>affix carefully final, ironic requests. silent ideas wake</td></tr><tr><td>297859</td><td>66032</td><td>F</td><td>119164.95</td><td>1994-11-25</td><td>5-LOW</td><td>Clerk#000000230</td><td>0</td><td>ly special accounts could haggle carefully among the furiously quiet accounts</td></tr><tr><td>498336</td><td>113329</td><td>F</td><td>233460.42</td><td>1994-09-25</td><td>1-URGENT</td><td>Clerk#000000041</td><td>0</td><td>quests cajole. furiously regular id</td></tr><tr><td>492929</td><td>141413</td><td>O</td><td>275898.81</td><td>1995-09-18</td><td>3-MEDIUM</td><td>Clerk#000000835</td><td>0</td><td>ly. slyly quick warhorses haggle quickly. blithely sp</td></tr><tr><td>508131</td><td>1594</td><td>O</td><td>293147.09</td><td>1998-07-11</td><td>1-URGENT</td><td>Clerk#000000633</td><td>0</td><td>hely bold foxes. slyly sly requests nag blithely. blithely exp</td></tr><tr><td>40999</td><td>9508</td><td>F</td><td>35186.42</td><td>1992-05-06</td><td>2-HIGH</td><td>Clerk#000000820</td><td>0</td><td>s. slyly bold deposits boost quickly according to the quickly even courts.</td></tr></tbody></table>"
      ]
     },
     "execution_count": 2,
     "metadata": {},
     "output_type": "execute_result"
    }
   ],
   "source": [
    "{\n",
    "    \"type\": \"ParquetExtract\",\n",
    "    \"inputURI\": \"${INPUT}/orders\",\n",
    "    \"outputView\": \"orders\",\n",
    "    \"persist\": true\n",
    "}"
   ]
  },
  {
   "cell_type": "code",
   "execution_count": 10,
   "id": "fa3b6178",
   "metadata": {},
   "outputs": [
    {
     "data": {
      "text/html": [
       "<table class=\"tex2jax_ignore\"><thead><tr><th>l_shipmode</th><th>high_line_count</th><th>low_line_count</th></tr></thead><tbody><tr><td>MAIL</td><td>6202</td><td>9324</td></tr><tr><td>SHIP</td><td>6200</td><td>9262</td></tr></tbody></table>"
      ]
     },
     "execution_count": 10,
     "metadata": {},
     "output_type": "execute_result"
    }
   ],
   "source": [
    "{\n",
    "    \"type\": \"SQLTransform\",\n",
    "    \"sql\": \"select ${field0}, sum(case when o_orderpriority = '1-URGENT' or o_orderpriority = '2-HIGH' then 1 else 0 end) as high_line_count, sum(case when o_orderpriority <> '1-URGENT' and o_orderpriority <> '2-HIGH' then 1 else 0 end) as low_line_count from lineitem join orders on l_orderkey = o_orderkey where l_shipmode in ('MAIL', 'SHIP') and l_commitdate < l_receiptdate and l_shipdate < l_commitdate and l_receiptdate >= date '1994-01-01' and l_receiptdate < date '1995-01-01' group by l_shipmode order by l_shipmode;\",\n",
    "    \"outputView\": \"out\",\n",
    "    \"sqlParams\": {\n",
    "        \"field0\": \"l_shipmode\"\n",
    "    }\n",
    "}"
   ]
  },
  {
   "cell_type": "code",
   "execution_count": 11,
   "id": "0b041ccc",
   "metadata": {},
   "outputs": [
    {
     "data": {
      "text/html": [
       "<table class=\"tex2jax_ignore\"><thead><tr><th>l_returnflag</th><th>l_linestatus</th><th>sum_qty</th><th>sum_base_price</th><th>sum_disc_price</th><th>sum_charge</th><th>avg_qty</th><th>avg_price</th><th>avg_disc</th><th>count_order</th></tr></thead><tbody><tr><td>A</td><td>F</td><td>37734107</td><td>56586554400.729996</td><td>53758257134.87</td><td>55909065222.8277</td><td>25.522005853257337</td><td>38273.12973462167</td><td>0.04998529583839774</td><td>1478493</td></tr><tr><td>N</td><td>F</td><td>991417</td><td>1487504710.38</td><td>1413082168.0540998</td><td>1469649223.194375</td><td>25.516471920522985</td><td>38284.4677608483</td><td>0.050093426674216304</td><td>38854</td></tr><tr><td>N</td><td>O</td><td>74476040</td><td>111701729697.74</td><td>106118230307.6056</td><td>110367043872.49701</td><td>25.50222676958499</td><td>38249.11798890827</td><td>0.04999658605370411</td><td>2920374</td></tr><tr><td>R</td><td>F</td><td>37719753</td><td>56568041380.9</td><td>53741292684.604004</td><td>55889619119.83194</td><td>25.50579361269077</td><td>38250.85462609966</td><td>0.05000940583012719</td><td>1478870</td></tr></tbody></table>"
      ]
     },
     "execution_count": 11,
     "metadata": {},
     "output_type": "execute_result"
    }
   ],
   "source": [
    "{\n",
    "    \"type\": \"SQLTransform\",\n",
    "    \"sql\": \"select l_returnflag, l_linestatus, sum(l_quantity) as sum_qty, sum(l_extendedprice) as sum_base_price, sum(l_extendedprice * (1 - l_discount)) as sum_disc_price, sum(l_extendedprice * (1 - l_discount) * (1 + l_tax)) as sum_charge, avg(l_quantity) as avg_qty, avg(l_extendedprice) as avg_price, avg(l_discount) as avg_disc, count(*) as count_order from lineitem where l_shipdate <= date '1998-09-02' group by l_returnflag, l_linestatus order by l_returnflag, l_linestatus;\",\n",
    "    \"outputView\": \"out\"\n",
    "}"
   ]
  },
  {
   "cell_type": "code",
   "execution_count": 12,
   "id": "ef733b07",
   "metadata": {},
   "outputs": [
    {
     "data": {
      "text/html": [
       "<table class=\"tex2jax_ignore\"><thead><tr><th>l_returnflag</th><th>l_linestatus</th><th>sum_qty</th><th>sum_base_price</th><th>sum_disc_price</th><th>sum_charge</th><th>avg_qty</th><th>avg_price</th><th>avg_disc</th><th>count_order</th></tr></thead><tbody><tr><td>A</td><td>F</td><td>37734107</td><td>56586554400.729996</td><td>53758257134.87</td><td>55909065222.8277</td><td>25.522005853257337</td><td>38273.12973462167</td><td>0.04998529583839774</td><td>1478493</td></tr><tr><td>N</td><td>F</td><td>991417</td><td>1487504710.38</td><td>1413082168.0540998</td><td>1469649223.194375</td><td>25.516471920522985</td><td>38284.4677608483</td><td>0.050093426674216304</td><td>38854</td></tr><tr><td>N</td><td>O</td><td>74476040</td><td>111701729697.74</td><td>106118230307.6056</td><td>110367043872.49701</td><td>25.50222676958499</td><td>38249.11798890827</td><td>0.04999658605370411</td><td>2920374</td></tr><tr><td>R</td><td>F</td><td>37719753</td><td>56568041380.9</td><td>53741292684.604004</td><td>55889619119.83194</td><td>25.50579361269077</td><td>38250.85462609966</td><td>0.05000940583012719</td><td>1478870</td></tr></tbody></table>"
      ]
     },
     "execution_count": 12,
     "metadata": {},
     "output_type": "execute_result"
    }
   ],
   "source": [
    "{\n",
    "    \"type\": \"SQLTransform\",\n",
    "    \"sql\": \"select * from out\",\n",
    "    \"outputView\": \"out\"\n",
    "}"
   ]
  },
  {
   "cell_type": "code",
   "execution_count": null,
   "id": "1c7f5cfc",
   "metadata": {},
   "outputs": [],
   "source": []
  }
 ],
 "metadata": {
  "kernelspec": {
   "display_name": "Box",
   "language": "javascript",
   "name": "box"
  },
  "language_info": {
   "codemirror_mode": {
    "name": "javascript",
    "smartIndent": false,
    "statementIndent": 2,
    "tabSize": 2
   },
   "mimetype": "application/json",
   "name": "javascript",
   "pygment_lexer": "javascript",
   "version": "0.1.0"
  }
 },
 "nbformat": 4,
 "nbformat_minor": 5
}
